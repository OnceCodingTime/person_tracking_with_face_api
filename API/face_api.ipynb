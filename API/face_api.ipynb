{
 "cells": [
  {
   "cell_type": "code",
   "execution_count": null,
   "metadata": {},
   "outputs": [],
   "source": [
    "import iapp_ai\n",
    "import vlc\n",
    "# import \n",
    "\n",
    "facecmp = \"super_ai_ss3\"\n",
    "facepsw = \"SuperAI_ss3\"\n",
    "\n",
    "# api key get after you register from https://ai.iapp.co.th/\n",
    "api_key = 'api key'\n",
    "\n",
    "api = iapp_ai.api(apikey=api_key)\n",
    "\n",
    "#face id\n",
    "face_id = \"face id for remove\"\n",
    "\n",
    "mp3_names = {}"
   ]
  },
  {
   "cell_type": "code",
   "execution_count": null,
   "metadata": {},
   "outputs": [],
   "source": [
    "def get_text2mp3(text,filename):\n",
    "    with open(filename, \"wb\") as f:\n",
    "        f.write(api.thai_thaitts_kaitom(text).content)\n",
    "\n",
    "#run mp3\n",
    "def play_mp3(filename):\n",
    "    p = vlc.MediaPlayer(filename)\n",
    "    p.play()\n",
    "\n",
    "# Add Face\n",
    "def get_name_text2mp3(face_file, name):\n",
    "    result = api.face_recog_add(file_path=face_file,name=name,company_name=facecmp,password=facepsw)\n",
    "\n",
    "    if result.status_code == 200:\n",
    "        res_json = result.json()\n",
    "        person_name = res_json['name']\n",
    "        # api.thai_thaitts_kaitom()\n",
    "        \n",
    "        if person_name not in mp3_names:\n",
    "            text = 'สวัสดีครับ คุณ'+person_name\n",
    "            filename = f\"name-{len(mp3_names):03}.mp3\"\n",
    "            get_text2mp3(text=text,filename=filename)\n",
    "        else:\n",
    "            filename = mp3_names[person_name]\n",
    "        play_mp3(filename)\n",
    "\n",
    "face_file = \"image file path\"\n",
    "get_name_text2mp3(face_file,\"ชื่อ\")"
   ]
  },
  {
   "cell_type": "code",
   "execution_count": null,
   "metadata": {},
   "outputs": [],
   "source": [
    "# Remove Face\n",
    "result = api.face_recog_remove(name='once',company_name=facecmp,company_password=facepsw,face_id='221204-3',date=\"\")"
   ]
  },
  {
   "cell_type": "code",
   "execution_count": null,
   "metadata": {},
   "outputs": [],
   "source": [
    "# Check Face\n",
    "result = api.face_recog_check(company_name=facecmp,company_password=facepsw)"
   ]
  },
  {
   "cell_type": "code",
   "execution_count": null,
   "metadata": {},
   "outputs": [],
   "source": [
    "face_file = \"image file path\"\n",
    "result = api.face_recog_single(file_path=face_file, company_name=facecmp)"
   ]
  }
 ],
 "metadata": {
  "kernelspec": {
   "display_name": "Python 3.7.13 ('facev1')",
   "language": "python",
   "name": "python3"
  },
  "language_info": {
   "codemirror_mode": {
    "name": "ipython",
    "version": 3
   },
   "file_extension": ".py",
   "mimetype": "text/x-python",
   "name": "python",
   "nbconvert_exporter": "python",
   "pygments_lexer": "ipython3",
   "version": "3.7.13"
  },
  "orig_nbformat": 4,
  "vscode": {
   "interpreter": {
    "hash": "d7928633949edd69df64717620f94f20380e781dbc4917de7426968e705daa0a"
   }
  }
 },
 "nbformat": 4,
 "nbformat_minor": 2
}
