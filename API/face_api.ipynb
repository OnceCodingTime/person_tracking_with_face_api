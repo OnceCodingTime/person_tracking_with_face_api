{
 "cells": [
  {
   "cell_type": "code",
   "execution_count": 3,
   "metadata": {},
   "outputs": [],
   "source": [
    "import iapp_ai\n",
    "import vlc\n",
    "import sys\n",
    "\n",
    "sys.path.append(\"./API\")\n",
    "\n",
    "\n",
    "facecmp = \"super_ai_ss3\"\n",
    "facepsw = \"SuperAI_ss3\"\n",
    "\n",
    "def read_txt(path):\n",
    "    with open(path, mode=\"r\") as f:\n",
    "        data = f.readline()\n",
    "    return data.strip(\" \\n\")\n",
    "\n",
    "# api key get after you register from https://ai.iapp.co.th/\n",
    "api_key = read_txt('apikey.txt')\n",
    "api = iapp_ai.api(apikey=api_key)\n",
    "\n",
    "mp3_names = {}"
   ]
  },
  {
   "cell_type": "code",
   "execution_count": 2,
   "metadata": {},
   "outputs": [
    {
     "name": "stdout",
     "output_type": "stream",
     "text": [
      "{'company': 'super_ai_ss3', 'face': 'data:image/png;base64, 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', 'face_id': 'None', 'message': 'face duplicate not saved.', 'name': 'ณัฐวัฒ'}\n"
     ]
    },
    {
     "data": {
      "text/plain": [
       "\" \\nface id \\n'221207-1'\\n\\n\""
      ]
     },
     "execution_count": 2,
     "metadata": {},
     "output_type": "execute_result"
    }
   ],
   "source": [
    "# Add Face\n",
    "face_file = \"/Users/macbookairm2dw6k/Desktop/super_ai/once-2.jpg\"\n",
    "\n",
    "name = \"ณัฐวัฒ\"\n",
    "result = api.face_recog_add(file_path=face_file,name=name,company_name=facecmp,password=facepsw)\n",
    "''' \n",
    "face id \n",
    "'221207-1'\n",
    "\n",
    "'''\n"
   ]
  },
  {
   "cell_type": "code",
   "execution_count": 3,
   "metadata": {},
   "outputs": [
    {
     "name": "stdout",
     "output_type": "stream",
     "text": [
      "{'message': 'company value is incorrect, please verify again.'}\n"
     ]
    }
   ],
   "source": [
    "# Remove Face\n",
    "face_id = \"221205\"\n",
    "name = \"ณัฐวัฒ\"\n",
    "result = api.face_recog_remove(name=name,company_name=facecmp,company_password=facepsw,face_id=face_id,date=\"\")"
   ]
  },
  {
   "cell_type": "code",
   "execution_count": 5,
   "metadata": {},
   "outputs": [
    {
     "name": "stdout",
     "output_type": "stream",
     "text": [
      "{'company': 'super_ai_ss3', 'feature_count': 2, 'message': 'successfully performed', 'name': {'ณัฐวัฒ': 2}, 'name_count': 1}\n"
     ]
    }
   ],
   "source": [
    "# Check Face\n",
    "result = api.face_recog_check(company_name=facecmp,company_password=facepsw)"
   ]
  },
  {
   "cell_type": "code",
   "execution_count": 7,
   "metadata": {},
   "outputs": [
    {
     "name": "stdout",
     "output_type": "stream",
     "text": [
      "{'bbox': {'xmax': 524.7071533203125, 'xmin': 392.0810546875, 'ymax': 395.601318359375, 'ymin': 212.3942413330078}, 'company': 'super_ai_ss3', 'detection_score': 0.9997484087944031, 'message': 'successfully performed', 'name': 'ณัฐวัฒ', 'process_time': 0.1517162322998047, 'recognition_score': 0.7483240849699357}\n"
     ]
    }
   ],
   "source": [
    "# Face Recognition\n",
    "# face_file = \"image file path\"\n",
    "face_file = \"/Users/macbookairm2dw6k/Desktop/super_ai/once-3.jpg\"\n",
    "result = api.face_recog_single(file_path=face_file, company_name=facecmp)"
   ]
  },
  {
   "cell_type": "code",
   "execution_count": 4,
   "metadata": {},
   "outputs": [],
   "source": [
    "text = \"สวัสดีครับ\"\n",
    "filename = \"mp3/unknown.mp3\"\n",
    "tts_response = api.thai_thaitts_kaitom(text)\n",
    "if tts_response.status_code == 200:\n",
    "    tts_content = tts_response.content\n",
    "    with open(filename, \"wb\") as f:\n",
    "        f.write(tts_content)\n",
    "    p = vlc.MediaPlayer(filename)\n",
    "    p.play()\n",
    "else:\n",
    "    print(tts_response.text)\n"
   ]
  },
  {
   "cell_type": "code",
   "execution_count": 1,
   "metadata": {},
   "outputs": [
    {
     "name": "stderr",
     "output_type": "stream",
     "text": [
      "YOLOv5 🚀 v7.0-23-g5dc1ce4 Python-3.7.13 torch-1.12.1 CPU\n",
      "\n",
      "Fusing layers... \n",
      "[W NNPACK.cpp:51] Could not initialize NNPACK! Reason: Unsupported hardware.\n",
      "YOLOv5s summary: 213 layers, 7225885 parameters, 0 gradients\n"
     ]
    },
    {
     "name": "stdout",
     "output_type": "stream",
     "text": [
      "{'bbox': {'xmax': 290.1485290527344, 'xmin': 155.126708984375, 'ymax': 265.0330810546875, 'ymin': 83.75032043457031}, 'company': 'super_ai_ss3', 'detection_score': 0.9998078942298889, 'message': 'successfully performed', 'name': 'ณัฐวัฒ', 'process_time': 0.11668848991394043, 'recognition_score': 0.7449243593500381}\n"
     ]
    },
    {
     "name": "stderr",
     "output_type": "stream",
     "text": [
      "image 1/1 /Users/macbookairm2dw6k/Desktop/super_ai/once-3.jpg: 640x640 1 person, 636.7ms\n",
      "Speed: 1.4ms pre-process, 636.7ms inference, 8.3ms NMS per image at shape (1, 3, 640, 640)\n",
      "Results saved to \u001b[1m../Yolov5_StrongSORT_OSNet/yolov5/runs/detect/exp11\u001b[0m\n"
     ]
    }
   ],
   "source": [
    "import sys\n",
    "sys.path.append(\"../Yolov5_StrongSORT_OSNet/yolov5\")\n",
    "\n",
    "from detect import run\n",
    "\n",
    "image_file = '/Users/macbookairm2dw6k/Desktop/super_ai/once-3.jpg'\n",
    "run(source=image_file,save_crop=True)\n"
   ]
  },
  {
   "cell_type": "code",
   "execution_count": null,
   "metadata": {},
   "outputs": [],
   "source": []
  },
  {
   "cell_type": "code",
   "execution_count": null,
   "metadata": {},
   "outputs": [],
   "source": []
  }
 ],
 "metadata": {
  "kernelspec": {
   "display_name": "Python 3.7.13 ('facev1')",
   "language": "python",
   "name": "python3"
  },
  "language_info": {
   "codemirror_mode": {
    "name": "ipython",
    "version": 3
   },
   "file_extension": ".py",
   "mimetype": "text/x-python",
   "name": "python",
   "nbconvert_exporter": "python",
   "pygments_lexer": "ipython3",
   "version": "3.7.13"
  },
  "orig_nbformat": 4,
  "vscode": {
   "interpreter": {
    "hash": "d7928633949edd69df64717620f94f20380e781dbc4917de7426968e705daa0a"
   }
  }
 },
 "nbformat": 4,
 "nbformat_minor": 2
}
