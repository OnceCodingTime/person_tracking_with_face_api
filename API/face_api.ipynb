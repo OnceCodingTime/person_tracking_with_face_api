{
 "cells": [
  {
   "cell_type": "code",
   "execution_count": 1,
   "metadata": {},
   "outputs": [],
   "source": [
    "import iapp_ai\n",
    "import vlc\n",
    "import sys\n",
    "\n",
    "sys.path.append(\"./API\")\n",
    "sys.path.append(\"../Yolov5_StrongSORT_OSNet\")\n",
    "\n",
    "facecmp = \"super_ai_ss3\"\n",
    "facepsw = \"SuperAI_ss3\"\n",
    "\n",
    "def read_txt(path):\n",
    "    with open(path, mode=\"r\") as f:\n",
    "        data = f.readline()\n",
    "    return data.strip(\" \\n\")\n",
    "\n",
    "# api key get after you register from https://ai.iapp.co.th/\n",
    "api_key = read_txt('apikey.txt')\n",
    "api = iapp_ai.api(apikey=api_key)\n",
    "\n",
    "mp3_names = {}"
   ]
  },
  {
   "cell_type": "code",
   "execution_count": null,
   "metadata": {},
   "outputs": [],
   "source": [
    "# Add Face\n",
    "face_file = \"image/\"\n",
    "name = \"ณัฐวัฒ\"\n",
    "result = api.face_recog_add(file_path=face_file,name=name,company_name=facecmp,password=facepsw)"
   ]
  },
  {
   "cell_type": "code",
   "execution_count": null,
   "metadata": {},
   "outputs": [],
   "source": [
    "# Remove Face\n",
    "face_id = \"221205\"\n",
    "name = \"ณัฐวัฒ\"\n",
    "result = api.face_recog_remove(name=name,company_name=facecmp,company_password=facepsw,face_id=face_id,date=\"\")"
   ]
  },
  {
   "cell_type": "code",
   "execution_count": null,
   "metadata": {},
   "outputs": [],
   "source": [
    "# Check Face\n",
    "result = api.face_recog_check(company_name=facecmp,company_password=facepsw)"
   ]
  },
  {
   "cell_type": "code",
   "execution_count": null,
   "metadata": {},
   "outputs": [],
   "source": [
    "# Face Recognition\n",
    "face_file = \"image file path\"\n",
    "result = api.face_recog_single(file_path=face_file, company_name=facecmp)"
   ]
  },
  {
   "cell_type": "code",
   "execution_count": 9,
   "metadata": {},
   "outputs": [
    {
     "name": "stdout",
     "output_type": "stream",
     "text": [
      "{\n",
      "  \"message\":\"Invalid authentication credentials\"\n",
      "}\n"
     ]
    }
   ],
   "source": [
    "text = \"สวัสดีครับ\"\n",
    "filename = \"mp3/test1.mp3\"\n",
    "tts_response = api.thai_thaitts_kaitom(text)\n",
    "if tts_response.status_code == 200:\n",
    "    tts_content = tts_response.content\n",
    "    with open(filename, \"wb\") as f:\n",
    "        f.write(tts_content)\n",
    "    p = vlc.MediaPlayer(filename)\n",
    "    p.play()\n",
    "else:\n",
    "    print(tts_response.text)\n"
   ]
  },
  {
   "cell_type": "code",
   "execution_count": 2,
   "metadata": {},
   "outputs": [
    {
     "name": "stderr",
     "output_type": "stream",
     "text": [
      "YOLOv5 🚀 v7.0-23-g5dc1ce4 Python-3.7.13 torch-1.12.1 CPU\n",
      "\n",
      "Fusing layers... \n",
      "[W NNPACK.cpp:51] Could not initialize NNPACK! Reason: Unsupported hardware.\n",
      "YOLOv5n summary: 213 layers, 1867405 parameters, 0 gradients\n"
     ]
    },
    {
     "name": "stdout",
     "output_type": "stream",
     "text": [
      "Successfully loaded pretrained weights from \"/Users/macbookairm2dw6k/once/super_ai/Person_Tracking_with_Face_and_TTS_API/Yolov5_StrongSORT_OSNet/weights/osnet_x0_25_msmt17.pt\"\n",
      "** The following layers are discarded due to unmatched keys or layer size: ['classifier.weight', 'classifier.bias']\n"
     ]
    },
    {
     "name": "stderr",
     "output_type": "stream",
     "text": [
      "image 1/1 /Users/macbookairm2dw6k/Desktop/super_ai/once-3.jpg: 640x640 1 person, Done. yolo:(0.229s), strongsort:(0.030s)\n",
      "Speed: 1.5ms pre-process, 229.4ms inference, 1.1ms NMS, 29.8ms strongsort update per image at shape (1, 3, 640, 640)\n"
     ]
    }
   ],
   "source": [
    "from track import run\n",
    "run(source='/Users/macbookairm2dw6k/Desktop/super_ai/once-3.jpg',save_crop=True)\n"
   ]
  },
  {
   "cell_type": "code",
   "execution_count": 3,
   "metadata": {},
   "outputs": [
    {
     "name": "stderr",
     "output_type": "stream",
     "text": [
      "YOLOv5 🚀 v7.0-23-g5dc1ce4 Python-3.7.13 torch-1.12.1 CPU\n",
      "\n",
      "Fusing layers... \n",
      "[W NNPACK.cpp:51] Could not initialize NNPACK! Reason: Unsupported hardware.\n",
      "YOLOv5n summary: 213 layers, 1867405 parameters, 0 gradients\n"
     ]
    },
    {
     "name": "stdout",
     "output_type": "stream",
     "text": [
      "Successfully loaded pretrained weights from \"/Users/macbookairm2dw6k/once/super_ai/Person_Tracking_with_Face_and_TTS_API/Yolov5_StrongSORT_OSNet/weights/osnet_x0_25_msmt17.pt\"\n",
      "** The following layers are discarded due to unmatched keys or layer size: ['classifier.weight', 'classifier.bias']\n"
     ]
    },
    {
     "name": "stderr",
     "output_type": "stream",
     "text": [
      "image 1/1 /Users/macbookairm2dw6k/Desktop/super_ai/once-3.jpg: 640x640 1 person, Done. yolo:(0.206s), strongsort:(0.104s)\n",
      "Speed: 1.6ms pre-process, 205.6ms inference, 1.0ms NMS, 104.1ms strongsort update per image at shape (1, 3, 640, 640)\n"
     ]
    }
   ],
   "source": []
  },
  {
   "cell_type": "code",
   "execution_count": null,
   "metadata": {},
   "outputs": [],
   "source": []
  }
 ],
 "metadata": {
  "kernelspec": {
   "display_name": "Python 3.7.13 ('facev1')",
   "language": "python",
   "name": "python3"
  },
  "language_info": {
   "codemirror_mode": {
    "name": "ipython",
    "version": 3
   },
   "file_extension": ".py",
   "mimetype": "text/x-python",
   "name": "python",
   "nbconvert_exporter": "python",
   "pygments_lexer": "ipython3",
   "version": "3.7.13"
  },
  "orig_nbformat": 4,
  "vscode": {
   "interpreter": {
    "hash": "d7928633949edd69df64717620f94f20380e781dbc4917de7426968e705daa0a"
   }
  }
 },
 "nbformat": 4,
 "nbformat_minor": 2
}
