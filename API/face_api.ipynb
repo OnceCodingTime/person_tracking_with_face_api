{
 "cells": [
  {
   "cell_type": "code",
   "execution_count": null,
   "metadata": {},
   "outputs": [],
   "source": [
    "import iapp_ai\n",
    "import vlc\n",
    "import sys\n",
    "\n",
    "sys.path.append(\"./API\")\n",
    "\n",
    "\n",
    "facecmp = \"super_ai_ss3\"\n",
    "facepsw = \"SuperAI_ss3\"\n",
    "\n",
    "def read_txt(path):\n",
    "    with open(path, mode=\"r\") as f:\n",
    "        data = f.readline()\n",
    "    return data.strip(\" \\n\")\n",
    "\n",
    "# api key get after you register from https://ai.iapp.co.th/\n",
    "api_key = read_txt('apikey.txt')\n",
    "api = iapp_ai.api(apikey=api_key)\n",
    "\n",
    "mp3_names = {}"
   ]
  },
  {
   "cell_type": "code",
   "execution_count": null,
   "metadata": {},
   "outputs": [],
   "source": [
    "# Add Face\n",
    "face_file = 'image path'\n",
    "\n",
    "name = \"ชื่อ\"\n",
    "result = api.face_recog_add(file_path=face_file,name=name,company_name=facecmp,password=facepsw)\n",
    "''' \n",
    "face id \n",
    "\n",
    "'''\n"
   ]
  },
  {
   "cell_type": "code",
   "execution_count": null,
   "metadata": {},
   "outputs": [],
   "source": [
    "# Remove Face\n",
    "face_id = \"221205\"\n",
    "name = \"ชื่อ\"\n",
    "result = api.face_recog_remove(name=name,company_name=facecmp,company_password=facepsw,face_id=face_id,date=\"\")"
   ]
  },
  {
   "cell_type": "code",
   "execution_count": null,
   "metadata": {},
   "outputs": [],
   "source": [
    "# Check Face\n",
    "result = api.face_recog_check(company_name=facecmp,company_password=facepsw)"
   ]
  },
  {
   "cell_type": "code",
   "execution_count": null,
   "metadata": {},
   "outputs": [],
   "source": [
    "# Face Recognition\n",
    "face_file = 'image path'\n",
    "result = api.face_recog_single(file_path=face_file, company_name=facecmp)"
   ]
  },
  {
   "cell_type": "code",
   "execution_count": null,
   "metadata": {},
   "outputs": [],
   "source": [
    "text = \"สวัสดีครับ\"\n",
    "filename = \"mp3/unknown.mp3\"\n",
    "tts_response = api.thai_thaitts_kaitom(text)\n",
    "if tts_response.status_code == 200:\n",
    "    tts_content = tts_response.content\n",
    "    with open(filename, \"wb\") as f:\n",
    "        f.write(tts_content)\n",
    "    p = vlc.MediaPlayer(filename)\n",
    "    p.play()\n",
    "else:\n",
    "    print(tts_response.text)\n"
   ]
  },
  {
   "cell_type": "code",
   "execution_count": null,
   "metadata": {},
   "outputs": [],
   "source": [
    "import sys\n",
    "sys.path.append(\"../yolov5\")\n",
    "\n",
    "from detect import run\n",
    "\n",
    "image_file = '/Users/macbookairm2dw6k/Desktop/super_ai/once-3.jpg'\n",
    "run(source=image_file,save_crop=True)\n"
   ]
  },
  {
   "cell_type": "code",
   "execution_count": null,
   "metadata": {},
   "outputs": [],
   "source": []
  },
  {
   "cell_type": "code",
   "execution_count": null,
   "metadata": {},
   "outputs": [],
   "source": []
  }
 ],
 "metadata": {
  "kernelspec": {
   "display_name": "Python 3.7.13 ('facev1')",
   "language": "python",
   "name": "python3"
  },
  "language_info": {
   "codemirror_mode": {
    "name": "ipython",
    "version": 3
   },
   "file_extension": ".py",
   "mimetype": "text/x-python",
   "name": "python",
   "nbconvert_exporter": "python",
   "pygments_lexer": "ipython3",
   "version": "3.7.13"
  },
  "orig_nbformat": 4,
  "vscode": {
   "interpreter": {
    "hash": "d7928633949edd69df64717620f94f20380e781dbc4917de7426968e705daa0a"
   }
  }
 },
 "nbformat": 4,
 "nbformat_minor": 2
}
